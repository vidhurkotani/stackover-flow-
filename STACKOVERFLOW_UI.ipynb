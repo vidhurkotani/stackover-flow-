{
 "cells": [
  {
   "cell_type": "code",
   "execution_count": 5,
   "metadata": {},
   "outputs": [
    {
     "name": "stdout",
     "output_type": "stream",
     "text": [
      "Search in progress..\n",
      "['python']\n"
     ]
    }
   ],
   "source": [
    "#!/usr/bin/env python\n",
    "# coding: utf-8\n",
    "\n",
    "# In[ ]:\n",
    "\n",
    "\n",
    "from tkinter import *\n",
    "from stackapi import StackAPI\n",
    "from nltk.corpus import stopwords\n",
    "import webbrowser\n",
    "from nltk.tokenize import word_tokenize \n",
    "def callback(url):\n",
    "    webbrowser.open_new(url)\n",
    "import pickle\n",
    "SITE = StackAPI('stackoverflow')\n",
    "top = Tk()\n",
    "top.title(\"StackOverflow Query System\")\n",
    "top.geometry(\"550x300+300+150\")\n",
    "top.resizable(width=True, height=True)\n",
    "L2 = Label(top, text=\"Query:\")\n",
    "L2.grid(row=1,column=1)\n",
    "E1 = Entry(top, bd =1)\n",
    "E1.grid(row=1,column=2)\n",
    "L3 = Label(top, text=\"Tags:\")\n",
    "L3.grid(row=2,column=1)\n",
    "E2 = Entry(top, bd =1)\n",
    "E2.grid(row=2,column=2)\n",
    "L4 = Label(top, text=\"Number of Results\")\n",
    "L4.grid(row=3,column=1)\n",
    "E3 = Entry(top, bd =1)\n",
    "E3.grid(row=3,column=2)\n",
    "t1=Frame(top)\n",
    "t1.grid(row=5,column=2)\n",
    "def search1():\n",
    "    for widget in t1.winfo_children():\n",
    "        widget.destroy()\n",
    "    print(\"Search in progress..\")\n",
    "    #stop_words = set(stopwords.words('english'))\n",
    "    quest=str(E1.get())\n",
    "    #word_tokens = word_tokenize(quest)\n",
    "    #print(word_tokens)\n",
    "    #quest1=\"\"\n",
    "    #for w in word_tokens: \n",
    "    #    if w not in stop_words: \n",
    "    #        quest1=quest1+w\n",
    "    #        quest1=quest1+\" \"\n",
    "    #print(quest1)\n",
    "    tags=str(E2.get())\n",
    "    tags1=tags.split(\",\")\n",
    "    number=E3.get()\n",
    "    try:\n",
    "        number1=int(number)\n",
    "    except ValueError as e:\n",
    "        error_num=Label(t1,text=\"Enter a number in the number of results field\")\n",
    "        error_num.pack()\n",
    "    #print(quest1)\n",
    "    import pandas as pd\n",
    "    print(tags1)\n",
    "    test=(SITE.fetch(\"search\",intitle=quest,tagged=tags1,sort='relevance'))\n",
    "    test1=pd.DataFrame(test['items'])\n",
    "    for i in range(number1):\n",
    "        try:\n",
    "            text=test1['link'][i]\n",
    "        except KeyError as e:\n",
    "            error=Label(t1,text=\"End of Results\")\n",
    "            error.pack()\n",
    "            break\n",
    "        link1 = Label(t1, text=str(test1['title'][i]), fg=\"blue\", cursor=\"hand1\")\n",
    "        link1.pack()\n",
    "        link1.bind(\"<Button-1>\", lambda e: callback(text))\n",
    "B = Button(top, text =\"Search\", command = search1)\n",
    "B.grid(row=4,column=1)\n",
    "top.mainloop()\n",
    "\n",
    "\n",
    "# In[ ]:\n",
    "\n",
    "\n",
    "\n",
    "\n"
   ]
  },
  {
   "cell_type": "code",
   "execution_count": null,
   "metadata": {},
   "outputs": [],
   "source": []
  }
 ],
 "metadata": {
  "kernelspec": {
   "display_name": "Python 3",
   "language": "python",
   "name": "python3"
  },
  "language_info": {
   "codemirror_mode": {
    "name": "ipython",
    "version": 3
   },
   "file_extension": ".py",
   "mimetype": "text/x-python",
   "name": "python",
   "nbconvert_exporter": "python",
   "pygments_lexer": "ipython3",
   "version": "3.7.3"
  }
 },
 "nbformat": 4,
 "nbformat_minor": 2
}
